{
 "cells": [
  {
   "cell_type": "code",
   "execution_count": 1,
   "id": "af4d2d21",
   "metadata": {},
   "outputs": [
    {
     "name": "stdout",
     "output_type": "stream",
     "text": [
      "Hello, World!\n"
     ]
    }
   ],
   "source": [
    "#Сурова Мария Андреевна БСТ2201\n",
    "#Задание 1\n",
    "print(\"Hello, World!\")"
   ]
  },
  {
   "cell_type": "code",
   "execution_count": 20,
   "id": "c374a98e",
   "metadata": {},
   "outputs": [
    {
     "name": "stdout",
     "output_type": "stream",
     "text": [
      "Количество строк: 2\n",
      "Количество столбцов: 3\n",
      "Минимальное значение: 4\n",
      "Максимальное значение: 3333\n",
      "[1438, 103, 3080]\n",
      "[2898, 72, 1939]\n"
     ]
    }
   ],
   "source": [
    "#Задание 2\n",
    "import random\n",
    "user_m = int(input(\"Количество строк: \"))\n",
    "user_n = int(input(\"Количество столбцов: \"))\n",
    "user_min_limit = int(input(\"Минимальное значение: \"))\n",
    "user_max_limit = int(input(\"Максимальное значение: \"))\n",
    "def create_matrix(user_m,user_n,user_min_limit,user_max_limit):\n",
    "    m =[]\n",
    "    for i in range (user_m):\n",
    "        irr = []\n",
    "        for j in range(user_n):\n",
    "            irr.append(random.randint(user_min_limit,user_max_limit))\n",
    "        m.append(irr)\n",
    "    return(m)\n",
    "matrix = create_matrix(user_m,user_n,user_min_limit,user_max_limit)\n",
    "create_matrix(user_m,user_n,user_min_limit,user_max_limit)\n",
    "for i in range(len(matrix)):\n",
    "    print(matrix[i])"
   ]
  },
  {
   "cell_type": "code",
   "execution_count": 21,
   "id": "a55f1806",
   "metadata": {},
   "outputs": [
    {
     "name": "stdout",
     "output_type": "stream",
     "text": [
      "Изначальная матрица:\n",
      "[1801, 2958, 1457]\n",
      "[3092, 1182, 1020]\n",
      "\n",
      "Отсортированная матрица:\n",
      "[1457, 1801, 2958]\n",
      "[1020, 1182, 3092]\n"
     ]
    }
   ],
   "source": [
    "#Задание 3\n",
    "#Сортировка выбором\n",
    "matrix = create_matrix(user_m,user_n,user_min_limit,user_max_limit)\n",
    "print(\"Изначальная матрица:\")\n",
    "for n in range(len(matrix)):\n",
    "    print(matrix[n])\n",
    "import time\n",
    "import timeit\n",
    "#start_time = timeit.default_timer()\n",
    "def selection_sort(matrix):\n",
    "    for i in range(len(matrix)):\n",
    "        min_idex = i\n",
    "        for j in range(i+1, len(matrix)):\n",
    "            if matrix[j] < matrix[min_idex]:\n",
    "                min_idex = j\n",
    "        matrix[min_idex], matrix[i] = matrix[i], matrix[min_idex]\n",
    "                \n",
    "    return matrix\n",
    "print(\"\\nОтсортированная матрица:\")\n",
    "for num in range(len(matrix)):\n",
    "    selection_sort(matrix[num])\n",
    "    print(matrix[num])\n",
    "#print(timeit.default_timer() - start_time)"
   ]
  },
  {
   "cell_type": "code",
   "execution_count": 8,
   "id": "3ea37d23",
   "metadata": {},
   "outputs": [
    {
     "name": "stdout",
     "output_type": "stream",
     "text": [
      "Изначальная матрица:\n",
      "[94, 592]\n",
      "[510, 176]\n",
      "\n",
      "Отсортированная матрица:\n",
      "[94, 592]\n",
      "[176, 510]\n"
     ]
    }
   ],
   "source": [
    "#Сортировка вставкой\n",
    "matrix = create_matrix(user_m,user_n,user_min_limit,user_max_limit)\n",
    "print(\"Изначальная матрица:\")\n",
    "for n in range(len(matrix)):\n",
    "    print(matrix[n])\n",
    "def insertion_sort(matrix):\n",
    "    for i in range(len(matrix)):\n",
    "        cursor = matrix[i]\n",
    "        pos = i\n",
    "        while pos > 0 and matrix[pos-1] > cursor:\n",
    "            matrix[pos] = matrix[pos-1]\n",
    "            pos = pos-1\n",
    "        matrix[pos]=cursor\n",
    "    return matrix\n",
    "print(\"\\nОтсортированная матрица:\")\n",
    "for row in range(len(matrix)):\n",
    "    insertion_sort(matrix[row])\n",
    "    print(matrix[row])\n",
    "        "
   ]
  },
  {
   "cell_type": "code",
   "execution_count": 9,
   "id": "2b5b84d1",
   "metadata": {},
   "outputs": [
    {
     "name": "stdout",
     "output_type": "stream",
     "text": [
      "Изначальная матрица:\n",
      "[17, 1036]\n",
      "[591, 1022]\n",
      "\n",
      "Отсортированная матрица:\n",
      "[17, 1036]\n",
      "[591, 1022]\n"
     ]
    }
   ],
   "source": [
    "#Сортировка пузырьком\n",
    "matrix = create_matrix(user_m,user_n,user_min_limit,user_max_limit)\n",
    "print(\"Изначальная матрица:\")\n",
    "for n in range(len(matrix)):\n",
    "    print(matrix[n])\n",
    "def bubble_sort(matrix):\n",
    "    is_change = True\n",
    "    while is_change:\n",
    "        is_change = False\n",
    "        for i in range(len(matrix)-1):\n",
    "            if matrix[i] > matrix[i+1]:\n",
    "                matrix[i], matrix[i+1] = matrix[i+1], matrix[i]\n",
    "                is_change = True\n",
    "    return matrix\n",
    "print(\"\\nОтсортированная матрица:\")\n",
    "for st in range(len(matrix)):\n",
    "    bubble_sort(matrix[st])\n",
    "    print(matrix[st])\n",
    "    "
   ]
  },
  {
   "cell_type": "code",
   "execution_count": 10,
   "id": "01740f92",
   "metadata": {},
   "outputs": [
    {
     "name": "stdout",
     "output_type": "stream",
     "text": [
      "Изначальная матрица:\n",
      "[651, 900]\n",
      "[1034, 481]\n",
      "\n",
      "Отсортированная матрица:\n",
      "[651, 900]\n",
      "[481, 1034]\n"
     ]
    }
   ],
   "source": [
    "# Сортировка Шеллa\n",
    "matrix = create_matrix(user_m,user_n,user_min_limit,user_max_limit)\n",
    "print(\"Изначальная матрица:\")\n",
    "for n in range(len(matrix)):\n",
    "    print(matrix[n])\n",
    "def shell_sort(matrix):\n",
    "    gap = len(matrix) // 2\n",
    "    \n",
    "    while gap > 0:\n",
    "        for value in range(gap, len(matrix)):\n",
    "            current_value = matrix[value]\n",
    "            position = value\n",
    "            \n",
    "            while position >= gap and matrix[position - gap] > current_value:\n",
    "                matrix[position] = matrix[position - gap]\n",
    "                position -= gap\n",
    "                matrix[position] = current_value\n",
    "        gap //= 2\n",
    "    return matrix\n",
    "print(\"\\nОтсортированная матрица:\")\n",
    "for st in range(len(matrix)):\n",
    "    shell_sort(matrix[st])\n",
    "    print(matrix[st])"
   ]
  },
  {
   "cell_type": "code",
   "execution_count": 11,
   "id": "7a79d268",
   "metadata": {},
   "outputs": [
    {
     "name": "stdout",
     "output_type": "stream",
     "text": [
      "Изначальная матрица:\n",
      "[483, 860]\n",
      "[286, 316]\n",
      "\n",
      "Отсортированная матрица:\n",
      "[483, 860]\n",
      "[286, 316]\n"
     ]
    }
   ],
   "source": [
    "# Быстрая сортировка\n",
    "matrix = create_matrix(user_m,user_n,user_min_limit,user_max_limit)\n",
    "print(\"Изначальная матрица:\")\n",
    "for n in range(len(matrix)):\n",
    "    print(matrix[n])\n",
    "def quick_sort(matrix):\n",
    "    quick_sort_helper(matrix, 0, len(matrix) - 1) \n",
    "    return matrix\n",
    "def quick_sort_helper(matrix, low, high):\n",
    "    if low < high:\n",
    "        split_point = partition(matrix, low, high) \n",
    "        quick_sort_helper(matrix, low, split_point - 1)\n",
    "        quick_sort_helper(matrix, split_point + 1, high)\n",
    "def partition(matrix, low, high):\n",
    "    pivot_value = matrix[low]\n",
    "    left_mark = low + 1\n",
    "    right_mark = high\n",
    "    done = False\n",
    "    while not done:\n",
    "        while left_mark <= right_mark and matrix[left_mark] <= pivot_value:\n",
    "            left_mark += 1\n",
    "        while right_mark >= left_mark and matrix[right_mark] >= pivot_value: \n",
    "            right_mark -= 1\n",
    "        if right_mark < left_mark:\n",
    "            done = True\n",
    "        else:\n",
    "            matrix[left_mark], matrix[right_mark] = matrix[right_mark], matrix[left_mark]\n",
    "    matrix[low], matrix[right_mark] = matrix[right_mark], matrix[low] \n",
    "    return right_mark\n",
    "print(\"\\nОтсортированная матрица:\")\n",
    "for row in range(len(matrix)):\n",
    "    quick_sort(matrix[row])\n",
    "    print(matrix[row])"
   ]
  },
  {
   "cell_type": "code",
   "execution_count": 19,
   "id": "914b8b60",
   "metadata": {},
   "outputs": [
    {
     "name": "stdout",
     "output_type": "stream",
     "text": [
      "Изначальная матрица:\n",
      "[983, 485, 611, 158, 206, 158, 45, 354, 735, 1015, 399, 832]\n",
      "[640, -22, 129, 146, 278, 1016, 100, 471, 1121, 77, 388, -87]\n",
      "[75, 975, 703, 1216, 998, 144, 4, 564, 1185, 663, 25, 1230]\n",
      "[576, 490, -71, -11, -96, 1178, 88, 165, 1131, 518, 605, 404]\n",
      "[256, 995, 1189, 119, 440, 980, 731, -106, 5, 151, -95, 1005]\n",
      "\n",
      "Отсортированная матрица:\n",
      "[45, 158, 158, 206, 354, 399, 485, 611, 735, 832, 983, 1015]\n",
      "[-87, -22, 77, 100, 129, 146, 278, 388, 471, 640, 1016, 1121]\n",
      "[4, 25, 75, 144, 564, 663, 703, 975, 998, 1185, 1216, 1230]\n",
      "[-96, -71, -11, 88, 165, 404, 490, 518, 576, 605, 1131, 1178]\n",
      "[-106, -95, 5, 119, 151, 256, 440, 731, 980, 995, 1005, 1189]\n"
     ]
    }
   ],
   "source": [
    "#Турнирная сортировка\n",
    "matrix = create_matrix(user_m,user_n,user_min_limit,user_max_limit)\n",
    "print(\"Изначальная матрица:\")\n",
    "for n in range(len(matrix)):\n",
    "    print(matrix[n])\n",
    "print(\"\\nОтсортированная матрица:\")\n",
    "def heap(matrix, heap_size, root_index):\n",
    "    largest = root_index\n",
    "    left = (2*root_index)+1\n",
    "    right = (2*root_index)+2\n",
    "    if left < heap_size and matrix[left] > matrix[largest]:\n",
    "        largest = left\n",
    "    if right < heap_size and matrix[right] > matrix[largest]:\n",
    "        largest = right\n",
    "    if largest != root_index:\n",
    "        matrix[root_index], matrix[largest] = matrix[largest], matrix[root_index]\n",
    "        heap(matrix, heap_size, largest)\n",
    "def t_sort(matrix):\n",
    "    n = len(matrix)\n",
    "    for i in range(n, -1, -1):\n",
    "        heap(matrix, n, i)\n",
    "    for i in range(n - 1, 0, -1):\n",
    "        matrix[i], matrix[0] = matrix[0], matrix[i]\n",
    "        heap(matrix, i, 0)\n",
    "    return matrix\n",
    "for st in range(len(matrix)):\n",
    "    t_sort(matrix[st])\n",
    "    print(matrix[st])\n",
    "    "
   ]
  },
  {
   "cell_type": "code",
   "execution_count": 14,
   "id": "969d518f",
   "metadata": {},
   "outputs": [
    {
     "name": "stdout",
     "output_type": "stream",
     "text": [
      "Изначальная матрица:\n",
      "[1, 22, 63, 55, 21, 64]\n",
      "[48, -6, 68, -3, 119, -15]\n",
      "[120, 94, 2, 94, 90, 85]\n",
      "\n",
      "Отсортированная матрица:\n",
      "[1, 21, 22, 55, 63, 64]\n",
      "[-15, -6, -3, 48, 68, 119]\n",
      "[2, 85, 90, 94, 94, 120]\n"
     ]
    }
   ],
   "source": [
    "#Встроенная сортировка\n",
    "matrix = create_matrix(user_m,user_n,user_min_limit,user_max_limit)\n",
    "print(\"Изначальная матрица:\")\n",
    "for n in range(len(matrix)):\n",
    "    print(matrix[n])\n",
    "print(\"\\nОтсортированная матрица:\")\n",
    "for st in range(len(matrix)):\n",
    "    matrix[st].sort()\n",
    "    print(matrix[st])"
   ]
  },
  {
   "cell_type": "code",
   "execution_count": 27,
   "id": "e4a24dfb",
   "metadata": {},
   "outputs": [
    {
     "name": "stdout",
     "output_type": "stream",
     "text": [
      "Сортировка выбором:  0.00010689999999158317\n",
      "Сортировка вставкой:  9.660000000621949e-05\n",
      "Сортировка пузырьком:  8.679999996275001e-05\n",
      "Сортировка Шелла:  8.739999998397252e-05\n",
      "Быстрая сортировка:  9.449999993194069e-05\n",
      "Стандартная сортировка:  8.170000000973232e-05\n"
     ]
    }
   ],
   "source": [
    "#Оценка времени работы алгоритмов сортировки\n",
    "import timeit\n",
    "matrix = create_matrix(user_m,user_n,user_min_limit,user_max_limit)\n",
    "#Сортировка выбором\n",
    "start_time = timeit.default_timer()\n",
    "selection_sort(matrix)\n",
    "selection_time = timeit.default_timer() - start_time\n",
    "print(\"Сортировка выбором: \",selection_time)\n",
    "#Сортировка вставкой\n",
    "start_time = timeit.default_timer()\n",
    "insertion_sort(matrix)\n",
    "insertion_time = timeit.default_timer() - start_time\n",
    "print(\"Сортировка вставкой: \", insertion_time)\n",
    "#Сортировка пузырьком\n",
    "start_time = timeit.default_timer()\n",
    "bubble_sort(matrix)\n",
    "bubble_time = timeit.default_timer() - start_time\n",
    "print(\"Сортировка пузырьком: \", bubble_time)\n",
    "#Сортировка Шелла\n",
    "start_time = timeit.default_timer()\n",
    "shell_sort(matrix)\n",
    "shell_time = timeit.default_timer() - start_time\n",
    "print(\"Сортировка Шелла: \", shell_time)\n",
    "#Быстрая сортировка\n",
    "start_time = timeit.default_timer()\n",
    "quick_sort(matrix)\n",
    "quick_time = timeit.default_timer() - start_time\n",
    "print(\"Быстрая сортировка: \", quick_time)\n",
    "#Стандартная сортировка\n",
    "start_time = timeit.default_timer()\n",
    "matrix.sort()\n",
    "standard_time = timeit.default_timer() - start_time\n",
    "print (\"Стандартная сортировка: \", standard_time)"
   ]
  },
  {
   "cell_type": "code",
   "execution_count": null,
   "id": "08ade863",
   "metadata": {},
   "outputs": [],
   "source": []
  },
  {
   "cell_type": "code",
   "execution_count": null,
   "id": "5b99102c",
   "metadata": {},
   "outputs": [],
   "source": []
  },
  {
   "cell_type": "code",
   "execution_count": null,
   "id": "1cc61e22",
   "metadata": {},
   "outputs": [],
   "source": []
  }
 ],
 "metadata": {
  "kernelspec": {
   "display_name": "Python 3 (ipykernel)",
   "language": "python",
   "name": "python3"
  },
  "language_info": {
   "codemirror_mode": {
    "name": "ipython",
    "version": 3
   },
   "file_extension": ".py",
   "mimetype": "text/x-python",
   "name": "python",
   "nbconvert_exporter": "python",
   "pygments_lexer": "ipython3",
   "version": "3.9.13"
  }
 },
 "nbformat": 4,
 "nbformat_minor": 5
}
